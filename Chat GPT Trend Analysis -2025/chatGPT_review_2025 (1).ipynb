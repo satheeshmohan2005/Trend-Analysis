{
 "cells": [
  {
   "cell_type": "code",
   "execution_count": 15,
   "id": "04de581a-2bf1-4617-873e-b6a5ab3b31c3",
   "metadata": {},
   "outputs": [],
   "source": [
    "import pandas as pd\n",
    "import numpy as np\n",
    "import plotly.express as px\n",
    "import plotly.graph_objects as go  #Create detailed, custom graphs.\n",
    "from plotly.subplots import make_subplots  # Create Subplots\n",
    "import plotly.io as pio\n",
    "from collections import Counter\n",
    "from sklearn.feature_extraction.text import CountVectorizer  \n",
    "from textblob import TextBlob\n",
    "pio.templates.default = \"plotly_white\" # Clean chart background"
   ]
  },
  {
   "cell_type": "code",
   "execution_count": 16,
   "id": "8616a3f1-755a-433b-a8ec-d0faa637c68f",
   "metadata": {},
   "outputs": [],
   "source": [
    "import plotly.io as pio\n",
    "pio.renderers.default = 'notebook_connected'\n",
    "pio.renderers.default = 'iframe_connected'"
   ]
  },
  {
   "cell_type": "code",
   "execution_count": 17,
   "id": "b0d35886-baa1-4a0f-a869-c3bf2a084f22",
   "metadata": {},
   "outputs": [],
   "source": [
    "df=pd.read_csv(r'C:\\Users\\Satheesh.M\\Downloads\\archive (5)\\chatgpt_reviews.csv')"
   ]
  },
  {
   "cell_type": "code",
   "execution_count": 18,
   "id": "c71e12fe-4741-4c6d-8517-4ee04970fcb6",
   "metadata": {},
   "outputs": [
    {
     "data": {
      "text/html": [
       "<div>\n",
       "<style scoped>\n",
       "    .dataframe tbody tr th:only-of-type {\n",
       "        vertical-align: middle;\n",
       "    }\n",
       "\n",
       "    .dataframe tbody tr th {\n",
       "        vertical-align: top;\n",
       "    }\n",
       "\n",
       "    .dataframe thead th {\n",
       "        text-align: right;\n",
       "    }\n",
       "</style>\n",
       "<table border=\"1\" class=\"dataframe\">\n",
       "  <thead>\n",
       "    <tr style=\"text-align: right;\">\n",
       "      <th></th>\n",
       "      <th>reviewId</th>\n",
       "      <th>userName</th>\n",
       "      <th>content</th>\n",
       "      <th>score</th>\n",
       "      <th>thumbsUpCount</th>\n",
       "      <th>reviewCreatedVersion</th>\n",
       "      <th>at</th>\n",
       "      <th>appVersion</th>\n",
       "    </tr>\n",
       "  </thead>\n",
       "  <tbody>\n",
       "    <tr>\n",
       "      <th>0</th>\n",
       "      <td>32506090-1b40-4d11-8f97-9dae275f0a3e</td>\n",
       "      <td>Owami Ngalwana</td>\n",
       "      <td>I can't wait to see my pictures</td>\n",
       "      <td>5</td>\n",
       "      <td>0</td>\n",
       "      <td>1.2025.084</td>\n",
       "      <td>2025-04-07 14:04:04</td>\n",
       "      <td>1.2025.084</td>\n",
       "    </tr>\n",
       "    <tr>\n",
       "      <th>1</th>\n",
       "      <td>1c0db8e7-9f79-4422-8d67-1f03e67c341a</td>\n",
       "      <td>Ranjeet Singh</td>\n",
       "      <td>goo ha eh</td>\n",
       "      <td>1</td>\n",
       "      <td>0</td>\n",
       "      <td>1.2025.084</td>\n",
       "      <td>2025-04-07 14:04:04</td>\n",
       "      <td>1.2025.084</td>\n",
       "    </tr>\n",
       "    <tr>\n",
       "      <th>2</th>\n",
       "      <td>f6e50146-850f-4980-bc6e-1e6284504a70</td>\n",
       "      <td>Rhoman Sabbir</td>\n",
       "      <td>Nice</td>\n",
       "      <td>5</td>\n",
       "      <td>0</td>\n",
       "      <td>NaN</td>\n",
       "      <td>2025-04-07 14:04:01</td>\n",
       "      <td>NaN</td>\n",
       "    </tr>\n",
       "    <tr>\n",
       "      <th>3</th>\n",
       "      <td>5c27a028-3cb5-4f81-aad0-0d8016ef0e1e</td>\n",
       "      <td>Ah Sohag</td>\n",
       "      <td>wow</td>\n",
       "      <td>4</td>\n",
       "      <td>0</td>\n",
       "      <td>1.2025.084</td>\n",
       "      <td>2025-04-07 14:04:00</td>\n",
       "      <td>1.2025.084</td>\n",
       "    </tr>\n",
       "    <tr>\n",
       "      <th>4</th>\n",
       "      <td>46f8ec33-fc5f-4edc-a7d3-a870a1658e37</td>\n",
       "      <td>Arjun Sri</td>\n",
       "      <td>this apps feels me like a bro</td>\n",
       "      <td>5</td>\n",
       "      <td>0</td>\n",
       "      <td>1.2025.084</td>\n",
       "      <td>2025-04-07 14:03:53</td>\n",
       "      <td>1.2025.084</td>\n",
       "    </tr>\n",
       "  </tbody>\n",
       "</table>\n",
       "</div>"
      ],
      "text/plain": [
       "                               reviewId        userName  \\\n",
       "0  32506090-1b40-4d11-8f97-9dae275f0a3e  Owami Ngalwana   \n",
       "1  1c0db8e7-9f79-4422-8d67-1f03e67c341a   Ranjeet Singh   \n",
       "2  f6e50146-850f-4980-bc6e-1e6284504a70   Rhoman Sabbir   \n",
       "3  5c27a028-3cb5-4f81-aad0-0d8016ef0e1e        Ah Sohag   \n",
       "4  46f8ec33-fc5f-4edc-a7d3-a870a1658e37       Arjun Sri   \n",
       "\n",
       "                           content  score  thumbsUpCount reviewCreatedVersion  \\\n",
       "0  I can't wait to see my pictures      5              0           1.2025.084   \n",
       "1                        goo ha eh      1              0           1.2025.084   \n",
       "2                             Nice      5              0                  NaN   \n",
       "3                              wow      4              0           1.2025.084   \n",
       "4    this apps feels me like a bro      5              0           1.2025.084   \n",
       "\n",
       "                    at  appVersion  \n",
       "0  2025-04-07 14:04:04  1.2025.084  \n",
       "1  2025-04-07 14:04:04  1.2025.084  \n",
       "2  2025-04-07 14:04:01         NaN  \n",
       "3  2025-04-07 14:04:00  1.2025.084  \n",
       "4  2025-04-07 14:03:53  1.2025.084  "
      ]
     },
     "execution_count": 18,
     "metadata": {},
     "output_type": "execute_result"
    }
   ],
   "source": [
    "df.head()"
   ]
  },
  {
   "cell_type": "markdown",
   "id": "d941c560-69fa-48e1-b4c9-a83caf43fe6e",
   "metadata": {},
   "source": [
    "Data Preprocessing:"
   ]
  },
  {
   "cell_type": "code",
   "execution_count": 19,
   "id": "db3ed7c7-1c1a-449d-b7e7-cbb7817e94cb",
   "metadata": {},
   "outputs": [
    {
     "data": {
      "text/plain": [
       "reviewId                    0\n",
       "userName                    2\n",
       "content                    12\n",
       "score                       0\n",
       "thumbsUpCount               0\n",
       "reviewCreatedVersion    37906\n",
       "at                          0\n",
       "appVersion              37906\n",
       "dtype: int64"
      ]
     },
     "execution_count": 19,
     "metadata": {},
     "output_type": "execute_result"
    }
   ],
   "source": [
    "df.isnull().sum()"
   ]
  },
  {
   "cell_type": "code",
   "execution_count": 20,
   "id": "64de4b7c-a3eb-47fa-862f-e6b346298b57",
   "metadata": {},
   "outputs": [],
   "source": [
    "df['content']=df['content'].astype(str).fillna('')"
   ]
  },
  {
   "cell_type": "code",
   "execution_count": 21,
   "id": "e3a77c19-c3ac-42e1-9bb1-6fdaeb8cecde",
   "metadata": {},
   "outputs": [
    {
     "data": {
      "text/plain": [
       "reviewId                    0\n",
       "userName                    2\n",
       "content                     0\n",
       "score                       0\n",
       "thumbsUpCount               0\n",
       "reviewCreatedVersion    37906\n",
       "at                          0\n",
       "appVersion              37906\n",
       "dtype: int64"
      ]
     },
     "execution_count": 21,
     "metadata": {},
     "output_type": "execute_result"
    }
   ],
   "source": [
    "df.isnull().sum()"
   ]
  },
  {
   "cell_type": "code",
   "execution_count": 22,
   "id": "25bfe6b8-2dfb-4189-89a2-a612cd8c34db",
   "metadata": {},
   "outputs": [],
   "source": [
    "gibli=df[df['content'].str.contains('gibli',na=False)]"
   ]
  },
  {
   "cell_type": "code",
   "execution_count": 23,
   "id": "7c5bf470-05a2-4f21-96d6-785c076644d2",
   "metadata": {},
   "outputs": [
    {
     "data": {
      "text/html": [
       "<div>\n",
       "<style scoped>\n",
       "    .dataframe tbody tr th:only-of-type {\n",
       "        vertical-align: middle;\n",
       "    }\n",
       "\n",
       "    .dataframe tbody tr th {\n",
       "        vertical-align: top;\n",
       "    }\n",
       "\n",
       "    .dataframe thead th {\n",
       "        text-align: right;\n",
       "    }\n",
       "</style>\n",
       "<table border=\"1\" class=\"dataframe\">\n",
       "  <thead>\n",
       "    <tr style=\"text-align: right;\">\n",
       "      <th></th>\n",
       "      <th>score</th>\n",
       "      <th>count</th>\n",
       "    </tr>\n",
       "  </thead>\n",
       "  <tbody>\n",
       "    <tr>\n",
       "      <th>0</th>\n",
       "      <td>5</td>\n",
       "      <td>363942</td>\n",
       "    </tr>\n",
       "    <tr>\n",
       "      <th>1</th>\n",
       "      <td>4</td>\n",
       "      <td>51897</td>\n",
       "    </tr>\n",
       "    <tr>\n",
       "      <th>2</th>\n",
       "      <td>1</td>\n",
       "      <td>28010</td>\n",
       "    </tr>\n",
       "    <tr>\n",
       "      <th>3</th>\n",
       "      <td>3</td>\n",
       "      <td>19350</td>\n",
       "    </tr>\n",
       "    <tr>\n",
       "      <th>4</th>\n",
       "      <td>2</td>\n",
       "      <td>8186</td>\n",
       "    </tr>\n",
       "  </tbody>\n",
       "</table>\n",
       "</div>"
      ],
      "text/plain": [
       "   score   count\n",
       "0      5  363942\n",
       "1      4   51897\n",
       "2      1   28010\n",
       "3      3   19350\n",
       "4      2    8186"
      ]
     },
     "execution_count": 23,
     "metadata": {},
     "output_type": "execute_result"
    }
   ],
   "source": [
    "scores=df['score'].value_counts().reset_index()\n",
    "scores"
   ]
  },
  {
   "cell_type": "markdown",
   "id": "0bb0c35b-de59-4f70-8f9c-6ef9275321a3",
   "metadata": {},
   "source": [
    "Score Distribution Visualization:"
   ]
  },
  {
   "cell_type": "code",
   "execution_count": 24,
   "id": "b282f069-f0e6-4616-89fd-f9397a125a8c",
   "metadata": {},
   "outputs": [
    {
     "data": {
      "text/html": [
       "<iframe\n",
       "    scrolling=\"no\"\n",
       "    width=\"520px\"\n",
       "    height=\"520\"\n",
       "    src=\"iframe_figures/figure_24.html\"\n",
       "    frameborder=\"0\"\n",
       "    allowfullscreen\n",
       "></iframe>\n"
      ]
     },
     "metadata": {},
     "output_type": "display_data"
    }
   ],
   "source": [
    "custom_colors=['#204D00','#3D7317','#63993D','#87BB62','#AFDC8F']\n",
    "fig=px.pie(\n",
    "    scores,names='score',\n",
    "    values='count',\n",
    "    title='Score Distribution ',\n",
    "    color_discrete_sequence=custom_colors)\n",
    "fig.update_layout(\n",
    "    width=500,\n",
    "    height=500\n",
    ")\n",
    "fig.update_traces(\n",
    "    textinfo='percent+label'\n",
    ")\n",
    "fig.show()"
   ]
  },
  {
   "cell_type": "markdown",
   "id": "dc0be888-db1f-4a2d-9f55-dc3631e54da1",
   "metadata": {},
   "source": [
    "# Checking Polarity Postive / Negative / Neutral"
   ]
  },
  {
   "cell_type": "markdown",
   "id": "0c9a5e5f-ddad-4bde-8cc5-30da8abe0aa8",
   "metadata": {},
   "source": [
    "Sentiment Analysis:"
   ]
  },
  {
   "cell_type": "markdown",
   "id": "e5666fbc-ae13-465b-b746-fecb4417b1d7",
   "metadata": {},
   "source": [
    "Method 1"
   ]
  },
  {
   "cell_type": "code",
   "execution_count": 25,
   "id": "6a4f2cd6-63c4-4879-9cab-c5c1ad03035c",
   "metadata": {},
   "outputs": [
    {
     "data": {
      "text/plain": [
       "reviewId                    0\n",
       "userName                    2\n",
       "content                     0\n",
       "score                       0\n",
       "thumbsUpCount               0\n",
       "reviewCreatedVersion    37906\n",
       "at                          0\n",
       "appVersion              37906\n",
       "dtype: int64"
      ]
     },
     "execution_count": 25,
     "metadata": {},
     "output_type": "execute_result"
    }
   ],
   "source": [
    "df.isnull().sum()"
   ]
  },
  {
   "cell_type": "code",
   "execution_count": 26,
   "id": "a1e77da2-f409-40d7-8bbd-436fb4b82370",
   "metadata": {},
   "outputs": [],
   "source": [
    "def get_sentiment(review):\n",
    "    sentiment=TextBlob(review).polarity\n",
    "    if sentiment>0:\n",
    "        return 'Positive'\n",
    "    elif sentiment<0:\n",
    "        return \"Negative\"\n",
    "    else:\n",
    "        return \"Neutral\""
   ]
  },
  {
   "cell_type": "code",
   "execution_count": null,
   "id": "fd8a3f73-66f1-4b93-a49a-ad7ce5f5391e",
   "metadata": {},
   "outputs": [],
   "source": [
    "df['Sentiment']=df['content'].apply(get_sentiment)"
   ]
  },
  {
   "cell_type": "code",
   "execution_count": null,
   "id": "77d625c6-ce19-4bbd-a8d1-b0c6a2a70d15",
   "metadata": {},
   "outputs": [],
   "source": [
    "df.head()"
   ]
  },
  {
   "cell_type": "markdown",
   "id": "4f106108-807c-481c-aacb-30480e8d4b92",
   "metadata": {},
   "source": [
    "Method 2"
   ]
  },
  {
   "cell_type": "code",
   "execution_count": null,
   "id": "2bfe345b-f811-428d-ba8f-165a62d187cc",
   "metadata": {},
   "outputs": [],
   "source": [
    "from vaderSentiment.vaderSentiment import SentimentIntensityAnalyzer\n",
    "analyzer=SentimentIntensityAnalyzer()\n",
    "\n",
    "def get_sentiment_analyze(review):\n",
    "    sentiment=analyzer.polarity_scores(review)['compound']\n",
    "    if sentiment >= 0.05:\n",
    "        return 'Positive'\n",
    "    elif sentiment <= -0.05:\n",
    "        return 'Negative'\n",
    "    else:\n",
    "        return \"Neutral\"\n"
   ]
  },
  {
   "cell_type": "code",
   "execution_count": null,
   "id": "f6a8b033-4bbf-4cd0-959e-47a515923187",
   "metadata": {},
   "outputs": [],
   "source": [
    "df['Sentiment']=df['content'].apply(get_sentiment_analyze)"
   ]
  },
  {
   "cell_type": "code",
   "execution_count": null,
   "id": "725777c3-77a9-43cd-8897-c67f33f0e89e",
   "metadata": {},
   "outputs": [],
   "source": [
    "df.head()"
   ]
  },
  {
   "cell_type": "code",
   "execution_count": null,
   "id": "d9d13fac-4cf4-476c-b80c-5b641c1d47ba",
   "metadata": {},
   "outputs": [],
   "source": [
    "ex1=get_sentiment_analyze(\"This is a phone. It works.\")\n",
    "ex2=get_sentiment_analyze(\"I don't like this\")\n",
    "ex3=get_sentiment_analyze(\"I am extremely happy with my purchase!\")\n",
    "ex1,ex2,ex3"
   ]
  },
  {
   "cell_type": "code",
   "execution_count": null,
   "id": "25015ecf-64d1-4354-b2db-08e55d6f55da",
   "metadata": {},
   "outputs": [],
   "source": [
    "sentiment_distribution=df['Sentiment'].value_counts().reset_index()"
   ]
  },
  {
   "cell_type": "code",
   "execution_count": null,
   "id": "3979f230-2bf8-4c35-b2fd-76b9358db282",
   "metadata": {},
   "outputs": [],
   "source": [
    "fig=go.Figure(\n",
    "    data=[\n",
    "        go.Bar(\n",
    "            x=sentiment_distribution['Sentiment'],\n",
    "            y=sentiment_distribution['count'],\n",
    "            marker_color=['green','gold','red'],\n",
    "            width=0.5\n",
    "        )\n",
    "    ]\n",
    ")\n",
    "fig.update_layout(\n",
    "    title='Sentiment Distribution of ChatGPT Reviews',\n",
    "    xaxis_title='Sentiment',\n",
    "    yaxis_title='Number Of Reviews',\n",
    "    width=700,\n",
    "    height=550\n",
    ")\n",
    "fig.show()"
   ]
  },
  {
   "cell_type": "markdown",
   "id": "14354f58-55d1-4494-8361-d453a9b1a36c",
   "metadata": {},
   "source": [
    "# Filter reviews with Positive sentiment"
   ]
  },
  {
   "cell_type": "code",
   "execution_count": null,
   "id": "9eba87ec-c2ce-403c-8c31-582cf3bcb351",
   "metadata": {},
   "outputs": [],
   "source": [
    "positive_reviews=df[df['Sentiment']==\"Positive\"]['content']\n",
    "positive_reviews"
   ]
  },
  {
   "cell_type": "code",
   "execution_count": null,
   "id": "097592e7-ca91-4379-bffd-cd1f2bef1f6c",
   "metadata": {},
   "outputs": [],
   "source": [
    "# use CountVectorizer to extract common phrases (n-grams)\n",
    "vectorizer=CountVectorizer(ngram_range=(2,3),stop_words='english',max_features=700)\n",
    "postive_packed=vectorizer.fit_transform(positive_reviews)"
   ]
  },
  {
   "cell_type": "code",
   "execution_count": null,
   "id": "b1d52d58-5585-4761-94e4-f35cad7c377f",
   "metadata": {},
   "outputs": [],
   "source": [
    "postive_packed"
   ]
  },
  {
   "cell_type": "code",
   "execution_count": null,
   "id": "96f9836e-8c1d-4872-a338-09ac1e37d2da",
   "metadata": {
    "scrolled": true
   },
   "outputs": [],
   "source": [
    "vectorizer.get_feature_names_out()"
   ]
  },
  {
   "cell_type": "code",
   "execution_count": null,
   "id": "1959fcde-fcfa-4b93-9ddc-d426ee3bb8fa",
   "metadata": {},
   "outputs": [],
   "source": [
    "positive_unpacked=pd.DataFrame(postive_packed.toarray(),columns=vectorizer.get_feature_names_out())"
   ]
  },
  {
   "cell_type": "code",
   "execution_count": null,
   "id": "4d5c64f0-6444-4b28-b041-d4feb3187fcf",
   "metadata": {},
   "outputs": [],
   "source": [
    "positive_distribution=positive_unpacked.sum().sort_values(ascending=False).reset_index()\n",
    "positive_distribution.columns=['review','counts']\n",
    "positive_distribution"
   ]
  },
  {
   "cell_type": "markdown",
   "id": "caee56e1-97f8-4f6f-8b14-1dae07729567",
   "metadata": {},
   "source": [
    "# Top 15 Most phases"
   ]
  },
  {
   "cell_type": "code",
   "execution_count": null,
   "id": "91394309-1bdb-4ece-a414-efccd226f630",
   "metadata": {},
   "outputs": [],
   "source": [
    "ps_top=positive_distribution.head(15)\n",
    "fig=go.Figure(\n",
    "    data=[\n",
    "        go.Bar(\n",
    "            y=ps_top['review'],\n",
    "            x=ps_top['counts'],\n",
    "            orientation='h',\n",
    "        )\n",
    "    ]\n",
    ")\n",
    "fig.update_layout(\n",
    "    title='Top Common Phrases in Positive Reviews',\n",
    "    xaxis_title='Frequency',\n",
    "    yaxis_title='Phases',\n",
    "             width=700,\n",
    "            height=700,\n",
    "            yaxis= {'categoryorder': 'total ascending'}\n",
    ")\n",
    "fig.show()"
   ]
  },
  {
   "cell_type": "markdown",
   "id": "d9f2d2e3-5d85-43c6-8490-fd8ac2d16698",
   "metadata": {},
   "source": [
    "# All Postive Reviews "
   ]
  },
  {
   "cell_type": "code",
   "execution_count": null,
   "id": "349085f2-8e9d-4add-83ef-2f6d4e4af03c",
   "metadata": {
    "scrolled": true
   },
   "outputs": [],
   "source": [
    "fig=go.Figure(\n",
    "    data=[\n",
    "        go.Bar(\n",
    "            y=positive_distribution['review'],\n",
    "            x=positive_distribution['counts'],\n",
    "            orientation='h',\n",
    "            marker=dict(color='green')\n",
    "        )\n",
    "    ]\n",
    ")\n",
    "fig.update_layout(\n",
    "    title='Top Common Phrases in Positive Reviews',\n",
    "    xaxis_title='Frequency',\n",
    "    yaxis_title='Phases',\n",
    "             width=1000,\n",
    "            height=5000,\n",
    "            yaxis= {'categoryorder': 'total ascending'}\n",
    ")\n",
    "fig.show()"
   ]
  },
  {
   "cell_type": "markdown",
   "id": "5b3579b9-f545-4786-8de9-dd55a7a7c705",
   "metadata": {},
   "source": [
    "# Negative Reviews"
   ]
  },
  {
   "cell_type": "markdown",
   "id": "0fa5a51b-767c-44f0-8500-57b0fb2a68a7",
   "metadata": {},
   "source": [
    "# Summarize to Three Words :"
   ]
  },
  {
   "cell_type": "code",
   "execution_count": null,
   "id": "c757ec2b-7114-453a-a623-2550dec5ab30",
   "metadata": {
    "scrolled": true
   },
   "outputs": [],
   "source": [
    "negative_reviews=df[df['Sentiment']==\"Negative\"]['content']\n",
    "vectorizer_2=CountVectorizer(ngram_range=(3,4),stop_words='english',max_features=200)\n",
    "neg_packed=vectorizer_2.fit_transform(negative_reviews)\n",
    "vectorizer_2.get_feature_names_out()"
   ]
  },
  {
   "cell_type": "code",
   "execution_count": null,
   "id": "757c357a-130d-4b1d-89a6-e5c4f0b1d9f2",
   "metadata": {},
   "outputs": [],
   "source": [
    "neg_unpack=pd.DataFrame(neg_packed.toarray(),columns=vectorizer_2.get_feature_names_out())\n",
    "neg_distribution=neg_unpack.sum().sort_values(ascending=False).reset_index()\n",
    "neg_distribution.columns=['review','counts']\n",
    "neg_distribution"
   ]
  },
  {
   "cell_type": "code",
   "execution_count": null,
   "id": "2438074e-1d81-4c2f-95bc-63da1f036c76",
   "metadata": {
    "scrolled": true
   },
   "outputs": [],
   "source": [
    "fig=go.Figure(\n",
    "    data=[\n",
    "        go.Bar(\n",
    "            x=neg_distribution['counts'],\n",
    "            y=neg_distribution['review'],\n",
    "            orientation='h',\n",
    "            marker=dict(color='firebrick')\n",
    "        )\n",
    "    ]\n",
    ")\n",
    "fig.update_layout(\n",
    "    title='Top Common Phrases in Negative Reviews',\n",
    "    yaxis_title='Frequency',\n",
    "    xaxis_title='Phrase',\n",
    "    width=1000,\n",
    "    height=2000,\n",
    "    yaxis={'categoryorder':'total ascending'}\n",
    ")\n",
    "fig.show()"
   ]
  },
  {
   "cell_type": "markdown",
   "id": "74b59032-1b4c-4711-b0bc-f0e11b88207c",
   "metadata": {},
   "source": [
    "# Summarize to Two Words :"
   ]
  },
  {
   "cell_type": "code",
   "execution_count": null,
   "id": "cee26237-8c0d-4a23-8e7e-9ce3a0d4d3d3",
   "metadata": {},
   "outputs": [],
   "source": [
    "negative_reviews_two=df[df['Sentiment']==\"Negative\"]['content']\n",
    "vectorizer_two=CountVectorizer(ngram_range=(2,3),stop_words='english',max_features=200)\n",
    "neg_packed=vectorizer_two.fit_transform(negative_reviews_two)\n",
    "neg_unpack=pd.DataFrame(neg_packed.toarray(),columns=vectorizer_two.get_feature_names_out())\n",
    "neg_distribution=neg_unpack.sum().sort_values(ascending=False).reset_index()\n",
    "neg_distribution.columns=['review','counts']\n",
    "neg_distribution"
   ]
  },
  {
   "cell_type": "code",
   "execution_count": null,
   "id": "13c7723f-7fd7-4b0b-91db-299cdf1de927",
   "metadata": {
    "scrolled": true
   },
   "outputs": [],
   "source": [
    "fig=go.Figure(\n",
    "    data=[\n",
    "        go.Bar(\n",
    "            x=neg_distribution['counts'],\n",
    "            y=neg_distribution['review'],\n",
    "            orientation='h',\n",
    "            marker=dict(color='crimson')\n",
    "        )\n",
    "    ]\n",
    ")\n",
    "fig.update_layout(\n",
    "    title='Top Common Phrases in Negative Reviews',\n",
    "    yaxis_title='Frequency',\n",
    "    xaxis_title='Phrase',\n",
    "    width=1000,\n",
    "    height=2000,\n",
    "    yaxis={'categoryorder':'total ascending'}\n",
    ")\n",
    "fig.show()"
   ]
  },
  {
   "cell_type": "markdown",
   "id": "1cd8d348-b3cb-49e1-ae81-fe7f6ad730f2",
   "metadata": {},
   "source": [
    "# Common Problems Faced By Users"
   ]
  },
  {
   "cell_type": "code",
   "execution_count": null,
   "id": "03264bd5-53af-4126-bea5-599569355bdd",
   "metadata": {},
   "outputs": [],
   "source": [
    "incorrect_ans=neg_distribution[neg_distribution['review'].str.contains('wro\\w*|wrong|incorrect|inaccurate|not|false|answer|error|time|ans\\w*',case=False,regex=True)]"
   ]
  },
  {
   "cell_type": "code",
   "execution_count": null,
   "id": "18c42795-ac08-4c38-a71a-508ca7bb58b8",
   "metadata": {},
   "outputs": [],
   "source": [
    "app_performence=neg_distribution[neg_distribution['review'].str.contains('wor\\w*|bug|lag|crash|fix|load|freeze|bad|performance |horr\\w*',case=False,regex=True)]"
   ]
  },
  {
   "cell_type": "code",
   "execution_count": null,
   "id": "dd50b977-a729-459a-9104-fe72e71c596d",
   "metadata": {},
   "outputs": [],
   "source": [
    "user_inter=neg_distribution[neg_distribution['review'].str.contains('button|interface|ui|layout|screen|button|design|confusing|use|difficult|look|view|like|scroll|display',case=False,regex=True)]"
   ]
  },
  {
   "cell_type": "code",
   "execution_count": null,
   "id": "1594040d-9fd8-48e7-99a1-8493bfd1900b",
   "metadata": {},
   "outputs": [],
   "source": [
    "features=neg_distribution[neg_distribution['review'].str.contains('feature|avail\\w*|mis\\w*|working|broken|not|stop|pro\\w*',case=False,regex=True)]"
   ]
  },
  {
   "cell_type": "code",
   "execution_count": null,
   "id": "83e30473-0e86-4bb2-b7de-a13bf7e0b9bb",
   "metadata": {},
   "outputs": [],
   "source": [
    "quality=neg_distribution[neg_distribution['review'].str.contains('res\\w*|\\w*less|less\\w*|qual\\w*|non\\w*|response|ir\\w*|info\\w*|mis\\w*',case=False,regex=True)]"
   ]
  },
  {
   "cell_type": "code",
   "execution_count": null,
   "id": "47f14c51-89ba-4080-987c-2cf9f4f1b4a8",
   "metadata": {},
   "outputs": [],
   "source": [
    "common_problems={\n",
    "    'Incorrect Answers' : incorrect_ans['counts'].sum(),\n",
    "    'App Performance':app_performence['counts'].sum(),\n",
    "    'User Interface':user_inter['counts'].sum(),\n",
    "    'Features Missing/Not Working':features['counts'].sum(),\n",
    "    'Quality of Responses':quality['counts'].sum()\n",
    "}\n",
    "common_problems"
   ]
  },
  {
   "cell_type": "code",
   "execution_count": null,
   "id": "09294ae6-4d9c-4372-bc4e-098154705040",
   "metadata": {},
   "outputs": [],
   "source": [
    "probelm_freq=pd.DataFrame(list(common_problems.items()),columns=['Problem','Frequency'])\n",
    "probelm_freq"
   ]
  },
  {
   "cell_type": "code",
   "execution_count": null,
   "id": "e465f936-3379-4fe2-94ef-f7c1ec770d1b",
   "metadata": {},
   "outputs": [],
   "source": [
    "custom_colors=['#7f0000', '#b30000', '#fc8d59','#d7301f', '#fdbb84']\n",
    "fig=px.bar(\n",
    "    probelm_freq,\n",
    "    x='Problem',\n",
    "    y='Frequency',\n",
    "    color='Problem',\n",
    "    color_discrete_sequence=custom_colors\n",
    ")\n",
    "fig.update_layout(\n",
    "    title='Common Problems Faced by Users in ChatGPT',\n",
    "    xaxis={'categoryorder':'total descending'},\n",
    "    width=1100,\n",
    "    height=700\n",
    ")\n",
    "fig.show()"
   ]
  },
  {
   "cell_type": "markdown",
   "id": "f4eb6449-78a3-4fde-8aa5-5ab1fea5da1a",
   "metadata": {},
   "source": [
    "# Sentimet Over Month"
   ]
  },
  {
   "cell_type": "code",
   "execution_count": null,
   "id": "10c4749d-07be-4900-87e3-51ceaf05b470",
   "metadata": {},
   "outputs": [],
   "source": [
    "df['at']=pd.to_datetime(df['at'])"
   ]
  },
  {
   "cell_type": "code",
   "execution_count": null,
   "id": "4290489c-a620-4b52-8fcc-8b9315e89434",
   "metadata": {
    "scrolled": true
   },
   "outputs": [],
   "source": [
    "sentiment_over_time=df.groupby([df['at'].dt.to_period('M'),'Sentiment']).size().unstack(fill_value=0)\n",
    "sentiment_over_time"
   ]
  },
  {
   "cell_type": "code",
   "execution_count": null,
   "id": "0f436f36-63e9-4e7e-ab79-84fe8b88db75",
   "metadata": {},
   "outputs": [],
   "source": [
    "sentiment_over_time.index=sentiment_over_time.index.to_timestamp()"
   ]
  },
  {
   "cell_type": "code",
   "execution_count": null,
   "id": "bf558580-99c4-439b-913d-d31311e23900",
   "metadata": {},
   "outputs": [],
   "source": [
    "fig=go.Figure()\n",
    "\n",
    "fig.add_trace(\n",
    "    go.Scatter(\n",
    "        x=sentiment_over_time.index,\n",
    "        y=sentiment_over_time['Positive'],\n",
    "        line=dict(color='green'),\n",
    "        name='Positive'\n",
    "    )\n",
    ")\n",
    "\n",
    "fig.add_trace(\n",
    "    go.Scatter(\n",
    "        x=sentiment_over_time.index,\n",
    "        y=sentiment_over_time['Negative'],\n",
    "        line=dict(color='red'),\n",
    "        name='Negative'\n",
    "    )\n",
    ")\n",
    "\n",
    "fig.add_trace(\n",
    "    go.Scatter(\n",
    "        x=sentiment_over_time.index,\n",
    "        y=sentiment_over_time['Neutral'],\n",
    "        line=dict(color='gold'),\n",
    "        name='Neutral'\n",
    "    )\n",
    ")\n",
    "\n",
    "fig.update_layout(\n",
    "    width=1100,\n",
    "    height=650,\n",
    "    title='Sentiment Trends Over Time',\n",
    "    xaxis_title='Date',\n",
    "    yaxis_title='Reviews',\n",
    "    legend_title_text='Sentiment',\n",
    "    xaxis=dict(showgrid=True, gridcolor='lightgray'), \n",
    "    yaxis=dict(showgrid=True, gridcolor='lightgray')\n",
    ")\n",
    "fig.show()"
   ]
  },
  {
   "cell_type": "code",
   "execution_count": null,
   "id": "739224a3-a072-4c10-9e02-9cdc43bd8d71",
   "metadata": {},
   "outputs": [],
   "source": [
    "df.head()"
   ]
  },
  {
   "cell_type": "code",
   "execution_count": null,
   "id": "c00a4bdb-362b-48d4-83c6-4c4916246ab2",
   "metadata": {},
   "outputs": [],
   "source": [
    "app_ver=df['appVersion'].value_counts()\n",
    "app_ver"
   ]
  },
  {
   "cell_type": "code",
   "execution_count": null,
   "id": "52b054c4-3f06-4ae4-a9dc-7ad58c072666",
   "metadata": {},
   "outputs": [],
   "source": [
    "fig=px.bar(\n",
    "    app_ver,\n",
    "    x=app_ver.index,\n",
    "    y=app_ver.values,\n",
    "    title='Distribution Of Versions'\n",
    ")\n",
    "fig.update_layout(\n",
    "    width=1100,\n",
    "    xaxis_title='Review',\n",
    "    yaxis_title='Version '\n",
    ")"
   ]
  },
  {
   "cell_type": "code",
   "execution_count": null,
   "id": "2836b1c3-f0b3-4e77-a5a3-31dffee92bda",
   "metadata": {},
   "outputs": [],
   "source": [
    "version_sentiment=df.groupby([df['appVersion'],'Sentiment']).size().unstack(fill_value=0)\n",
    "version_sentiment=version_sentiment.reset_index()\n",
    "version_sentiment.head()"
   ]
  },
  {
   "cell_type": "code",
   "execution_count": null,
   "id": "1c3ba611-4032-4b87-b61c-c1d4e3917aa6",
   "metadata": {},
   "outputs": [],
   "source": [
    "version_sentiment = df.groupby(['appVersion', 'Sentiment']).size().unstack(fill_value=0).reset_index()\n",
    "version_sentiment"
   ]
  },
  {
   "cell_type": "code",
   "execution_count": null,
   "id": "49da08dc-ea74-4e1b-aa0d-8ba581f270ce",
   "metadata": {},
   "outputs": [],
   "source": [
    "from packaging import version\n",
    "\n",
    "version_sentiment['appVersion'] = version_sentiment['appVersion'].apply(version.parse)\n",
    "version_sentiment = version_sentiment.sort_values(by='appVersion', ascending=False)\n",
    "version_sentiment['appVersion'] = version_sentiment['appVersion'].astype(str)\n",
    "version_sentiment"
   ]
  },
  {
   "cell_type": "code",
   "execution_count": null,
   "id": "5d68d685-fae3-4b58-9379-ff303bc32316",
   "metadata": {},
   "outputs": [],
   "source": [
    "version_melted = version_sentiment.melt(\n",
    "    id_vars='appVersion',\n",
    "    value_vars=['Positive', 'Negative', 'Neutral'],\n",
    "    var_name='Sentiment',\n",
    "    value_name='Count'\n",
    ")\n",
    "\n",
    "version_melted.head()"
   ]
  },
  {
   "cell_type": "code",
   "execution_count": null,
   "id": "161309f9-6b22-42ac-a1a6-9173bec0167a",
   "metadata": {},
   "outputs": [],
   "source": [
    "version_melted = version_melted.sort_values('appVersion', ascending=False)"
   ]
  },
  {
   "cell_type": "code",
   "execution_count": null,
   "id": "e8f5eb5c-1ef8-42c1-b7cf-b6f6cf5a1a90",
   "metadata": {},
   "outputs": [],
   "source": [
    "color_map = {\n",
    "    'Positive': 'darkgreen',\n",
    "    'Negative': 'crimson',\n",
    "    'Neutral': 'gold'\n",
    "}\n",
    "fig=px.bar(\n",
    "    version_melted,\n",
    "    x='appVersion',\n",
    "    y='Count',\n",
    "    color='Sentiment',\n",
    "    title='Sentiment Distribution Across App Versions',\n",
    "    color_discrete_map=color_map,\n",
    "    height=700,\n",
    "    width=1000\n",
    ")\n",
    "fig.update_layout(barmode='stack')\n",
    "fig.show()"
   ]
  },
  {
   "cell_type": "markdown",
   "id": "8b116a80-854b-4f3c-a280-1c31517156da",
   "metadata": {},
   "source": [
    "# NPS Calculation"
   ]
  },
  {
   "cell_type": "code",
   "execution_count": null,
   "id": "45b3e9af-ed7e-4ac8-b3e6-2b9434c2e9a0",
   "metadata": {},
   "outputs": [],
   "source": [
    "df['nps category']=df['score'].apply(lambda x:\n",
    "                                    \"Promoter\" if x==5 else(\n",
    "                                                             \"Passive\" if x==4 \n",
    "                                                                       else \"Detractor\"\n",
    "                                     )\n",
    "                                    )"
   ]
  },
  {
   "cell_type": "code",
   "execution_count": null,
   "id": "6f5b5bfa-3331-4d8f-9d7b-ae9e1eaab58b",
   "metadata": {},
   "outputs": [],
   "source": [
    "nps=df['nps category'].value_counts(normalize=True)*100\n",
    "nps=nps.reset_index()\n",
    "nps.columns=['category','percentage']\n",
    "nps['percentage']=nps['percentage'].round(2)\n",
    "nps"
   ]
  },
  {
   "cell_type": "code",
   "execution_count": null,
   "id": "ed4d854c-67a0-48a8-af13-ced615af3d5c",
   "metadata": {},
   "outputs": [],
   "source": [
    "colors=['#4CAF50', '#FFC107', '#F44336']\n",
    "fig=px.pie(\n",
    "    nps,\n",
    "    names=nps['category'],\n",
    "    values=nps['percentage'],\n",
    "    title='NPS Category Distribution (%)',\n",
    "    color_discrete_sequence=colors\n",
    ")\n",
    "fig.update_layout(\n",
    "    width=500,\n",
    "    height=500\n",
    ")\n",
    "fig.show()"
   ]
  },
  {
   "cell_type": "code",
   "execution_count": null,
   "id": "a9c54735-5110-4587-9aaa-e212d6fbc769",
   "metadata": {},
   "outputs": [],
   "source": [
    "nps.loc[nps['category']==\"Promoter\",'percentage'].values[0]-nps.loc[nps['category']=='Detractor','percentage'].values[0]"
   ]
  },
  {
   "cell_type": "markdown",
   "id": "a735f548-e0c9-47cb-8bb3-00fa62be6c5a",
   "metadata": {},
   "source": [
    "The Net Promoter Score (NPS) for ChatGPT, based on the ratings provided in the dataset, is approximately 65.42"
   ]
  },
  {
   "cell_type": "code",
   "execution_count": null,
   "id": "3899fe0c-34b5-486e-aec6-ce3b09f20957",
   "metadata": {},
   "outputs": [],
   "source": [
    "#pd.set_option('display.max_colwidth',None)\n",
    "top_reviews=df.sort_values('thumbsUpCount' , ascending=False)[['userName','content','thumbsUpCount']]\n",
    "top_reviews"
   ]
  },
  {
   "cell_type": "code",
   "execution_count": null,
   "id": "4bf47235-3706-4a42-93bf-2f906f9d64d2",
   "metadata": {},
   "outputs": [],
   "source": [
    "def categorized_review(x):\n",
    "    if x<=10:\n",
    "        return \"Low\"\n",
    "    elif x<=50:\n",
    "        return \"Medium\"\n",
    "    elif x<=200:\n",
    "        return \"High\"\n",
    "    elif x<=500:\n",
    "        return \"Very High\"\n",
    "    else:\n",
    "        return \"Viral\""
   ]
  },
  {
   "cell_type": "code",
   "execution_count": null,
   "id": "a5d0c5e8-aec2-4ae7-ad5c-8cdb004e7090",
   "metadata": {},
   "outputs": [],
   "source": [
    "top_reviews['helpfull']=top_reviews['thumbsUpCount'].apply(categorized_review)\n",
    "top_reviews"
   ]
  },
  {
   "cell_type": "code",
   "execution_count": null,
   "id": "c46129de-afcc-4501-ac04-c86b5b486169",
   "metadata": {},
   "outputs": [],
   "source": [
    "help_category=top_reviews['helpfull'].value_counts()\n",
    "help_category"
   ]
  },
  {
   "cell_type": "code",
   "execution_count": null,
   "id": "9ca538b6-fafe-4b19-84f5-1a34db3517e4",
   "metadata": {},
   "outputs": [],
   "source": [
    "without_low=help_category.drop('Low')\n",
    "# Create subplot layout\n",
    "fig=make_subplots(rows=1,cols=2,subplot_titles=(\"All Levels\", \"Excluding 'Low'\"))\n",
    "\n",
    "# Add both charts to subplots\n",
    "fig.add_trace(\n",
    "    go.Bar(\n",
    "        x=help_category.index,\n",
    "        y=help_category.values,\n",
    "        name='All',\n",
    "        marker_color='teal'\n",
    "    ),\n",
    "    row=1,col=1\n",
    ")\n",
    "\n",
    "fig.add_trace(\n",
    "    go.Bar (\n",
    "        x=without_low.index,\n",
    "        y=without_low.values,\n",
    "        name=\"Filtered  Low \",\n",
    "        marker_color='orange',\n",
    "        width=0.4\n",
    "    ),\n",
    "    row=1,col=2\n",
    ")\n",
    "\n",
    "fig.update_layout(\n",
    "    height=500,\n",
    "    width=1100,\n",
    "    title_text=\"Helpfulness Distribution - Full vs Filtered\",\n",
    "    \n",
    "    xaxis_title=\"Helpfulness Level (All)\",\n",
    "    yaxis_title=\"Review Count\",\n",
    "\n",
    "    xaxis2_title=\"Helpfulness Level (Filtered)\",\n",
    "    yaxis2_title=\"Review Count\"\n",
    ")\n",
    "fig.show()"
   ]
  },
  {
   "cell_type": "code",
   "execution_count": null,
   "id": "9e4eca70-815a-436a-989f-3dd72f3eab57",
   "metadata": {},
   "outputs": [],
   "source": [
    "# Top 5 Data\n",
    "top5=top_reviews.head(20).sort_values(by='thumbsUpCount',ascending=False)\n",
    "top5.drop_duplicates(subset=['userName'],keep='first',inplace=True)\n",
    "# Visualize Top 5\n",
    "fig=px.bar(\n",
    "    top5,\n",
    "    x='userName',\n",
    "    y='thumbsUpCount',\n",
    "    hover_data={'content': True},\n",
    "    text='thumbsUpCount',\n",
    "    title='Top Most Liked Reviews',\n",
    "    labels={'thumbsUpCount': 'Thumbs Up', 'userName': 'User'}\n",
    ")\n",
    "fig.update_layout(\n",
    ")\n",
    "fig.show()"
   ]
  },
  {
   "cell_type": "code",
   "execution_count": null,
   "id": "f560226a-08e9-4aa2-8689-dcf7ab74ab8e",
   "metadata": {},
   "outputs": [],
   "source": [
    "pd.set_option('display.max_colwidth',None)\n",
    "top5[['content','thumbsUpCount']].head()"
   ]
  },
  {
   "cell_type": "markdown",
   "id": "1a63ee8a-a733-4b5a-beb5-73f532344b01",
   "metadata": {},
   "source": [
    "# Trending Gibli Image Reviews"
   ]
  },
  {
   "cell_type": "code",
   "execution_count": null,
   "id": "fed298eb-6f5a-4868-a464-26baa52f0d45",
   "metadata": {},
   "outputs": [],
   "source": [
    "gibli=df[df['content'].str.contains('gibli|gibh\\*w')]\n",
    "gibli.head()"
   ]
  },
  {
   "cell_type": "markdown",
   "id": "171a1f00-fb5b-428a-abec-c1cb710ad2c2",
   "metadata": {},
   "source": [
    "Postive Reviews"
   ]
  },
  {
   "cell_type": "code",
   "execution_count": null,
   "id": "3e4d77de-4b70-42f3-bfb8-aa90c38127ad",
   "metadata": {},
   "outputs": [],
   "source": [
    "gibli_positive=gibli[gibli['Sentiment']=='Positive'][['userName','content']]\n",
    "gibli_positive"
   ]
  },
  {
   "cell_type": "markdown",
   "id": "61a81f04-7cd9-429f-9759-a071ddeeedaf",
   "metadata": {},
   "source": [
    "Negative Reviews"
   ]
  },
  {
   "cell_type": "code",
   "execution_count": null,
   "id": "240ee9bf-d8a6-4686-8070-a3c8c03520cb",
   "metadata": {},
   "outputs": [],
   "source": [
    "gibli_negative=gibli[gibli['Sentiment']=='Negative'][['userName','content']]\n",
    "gibli_negative"
   ]
  },
  {
   "cell_type": "code",
   "execution_count": null,
   "id": "9a89c9c8-e376-42a6-b4ba-eb64c17168b1",
   "metadata": {},
   "outputs": [],
   "source": [
    "!jupyter nbconvert --to html chatGPT_review_2025.ipynb"
   ]
  },
  {
   "cell_type": "code",
   "execution_count": null,
   "id": "0c7a7c34-dec1-4801-ae51-bf75e601a856",
   "metadata": {},
   "outputs": [],
   "source": [
    "!jupyter nbconvert chatGPT_review_2025.ipynb --to html --embed-images\n"
   ]
  },
  {
   "cell_type": "code",
   "execution_count": null,
   "id": "5d01838c-8f5b-4451-a3c1-0d67c9de8e8c",
   "metadata": {},
   "outputs": [],
   "source": [
    "top5.head()"
   ]
  }
 ],
 "metadata": {
  "kernelspec": {
   "display_name": "Python 3 (ipykernel)",
   "language": "python",
   "name": "python3"
  },
  "language_info": {
   "codemirror_mode": {
    "name": "ipython",
    "version": 3
   },
   "file_extension": ".py",
   "mimetype": "text/x-python",
   "name": "python",
   "nbconvert_exporter": "python",
   "pygments_lexer": "ipython3",
   "version": "3.11.9"
  }
 },
 "nbformat": 4,
 "nbformat_minor": 5
}
